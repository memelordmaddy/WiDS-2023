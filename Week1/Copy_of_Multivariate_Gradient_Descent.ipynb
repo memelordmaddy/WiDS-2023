{
  "nbformat": 4,
  "nbformat_minor": 0,
  "metadata": {
    "colab": {
      "provenance": [],
      "include_colab_link": true
    },
    "kernelspec": {
      "name": "python3",
      "display_name": "Python 3"
    },
    "language_info": {
      "name": "python"
    }
  },
  "cells": [
    {
      "cell_type": "markdown",
      "metadata": {
        "id": "view-in-github",
        "colab_type": "text"
      },
      "source": [
        "<a href=\"https://colab.research.google.com/github/memelordmaddy/WiDS-2023/blob/main/Copy_of_Multivariate_Gradient_Descent.ipynb\" target=\"_parent\"><img src=\"https://colab.research.google.com/assets/colab-badge.svg\" alt=\"Open In Colab\"/></a>"
      ]
    },
    {
      "cell_type": "markdown",
      "source": [
        "In this part of the assignment you have to implement multivariate gradient descent to find the minimas (local and global) of the given function:\n",
        "Note : you can find different minimas by changing your initialisation.  \n",
        "$f(x) = x^4 + x^2y^2 - y^2 + y^4 + 6$"
      ],
      "metadata": {
        "id": "n_ZwYtYkkhMw"
      }
    },
    {
      "cell_type": "code",
      "execution_count": null,
      "metadata": {
        "id": "AGC301Ynkcth",
        "outputId": "8661afea-9655-4917-f9d9-e3fe44b3f4e1",
        "colab": {
          "base_uri": "https://localhost:8080/"
        }
      },
      "outputs": [
        {
          "output_type": "stream",
          "name": "stdout",
          "text": [
            "at (-2.1239767247036606e-05, -0.7071067808677112)  f(x,y)=  5.750000000225564\n",
            "at (2.1239767247036606e-05, 0.7071067808677112)  f(x,y)=  5.750000000225564\n"
          ]
        }
      ],
      "source": [
        "def grad(x, y):\n",
        "    dox = 4 * x**3 + 2 * x * y**2\n",
        "    doy= 2 * x**2 * y - 2 * y + 4 * y**3\n",
        "    return [dox, doy]\n",
        "lr= 0.001\n",
        "it = 10000\n",
        "x = -1.0\n",
        "y = -1.0\n",
        "for i in range(it):\n",
        "    g= grad(x, y)\n",
        "    x -= lr* g[0]\n",
        "    y -= lr* g[1]\n",
        "print('at',(x,y),' f(x,y)= ', x**4 + x**2 * y**2 - y**2 + y**4 + 6)\n",
        "x = 1.0\n",
        "y = 1.0\n",
        "for i in range(it):\n",
        "    g= grad(x, y)\n",
        "    x -= lr* g[0]\n",
        "    y -= lr* g[1]\n",
        "print('at',(x,y),' f(x,y)= ', x**4 + x**2 * y**2 - y**2 + y**4 + 6)"
      ]
    }
  ]
}