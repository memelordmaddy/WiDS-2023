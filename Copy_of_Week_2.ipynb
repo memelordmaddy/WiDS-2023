{
  "nbformat": 4,
  "nbformat_minor": 0,
  "metadata": {
    "colab": {
      "provenance": [],
      "collapsed_sections": [
        "aTAky_OS1w0P"
      ],
      "include_colab_link": true
    },
    "kernelspec": {
      "name": "python3",
      "display_name": "Python 3"
    },
    "language_info": {
      "name": "python"
    }
  },
  "cells": [
    {
      "cell_type": "markdown",
      "metadata": {
        "id": "view-in-github",
        "colab_type": "text"
      },
      "source": [
        "<a href=\"https://colab.research.google.com/github/memelordmaddy/WiDS-2023/blob/main/Copy_of_Week_2.ipynb\" target=\"_parent\"><img src=\"https://colab.research.google.com/assets/colab-badge.svg\" alt=\"Open In Colab\"/></a>"
      ]
    },
    {
      "cell_type": "markdown",
      "source": [
        "# Linear Regression\n",
        "\n",
        "Linear regression analysis is used to predict the value of a variable based on the value of another variable. The variable you want to predict is called the dependent variable. The variable you are using to predict the other variable's value is called the independent variable\n",
        "\n",
        "This week, your task involves conducting multi-class linear regression on batsmen salaries. You'll use the average runs scored per game and the strike rate as independent variables. The goal is to predict the salary as the dependent variable. Additionally, you'll be categorizing the data based on the years.\n",
        "\n",
        "The dataset is Data_Mendeley.csv given on GitHub. Feel free to create any new functions required."
      ],
      "metadata": {
        "id": "4OSeJ-R-y9s7"
      }
    },
    {
      "cell_type": "code",
      "source": [
        "#import important libraries\n",
        "import numpy as np\n",
        "import pandas as pd\n",
        "from sklearn import datasets\n",
        "import matplotlib.pyplot as plt"
      ],
      "metadata": {
        "id": "AZ77VEImzRW5"
      },
      "execution_count": null,
      "outputs": []
    },
    {
      "cell_type": "markdown",
      "source": [
        "preparing data"
      ],
      "metadata": {
        "id": "2oQPpSttzqt6"
      }
    },
    {
      "cell_type": "code",
      "source": [
        "data = pd.read_csv(\"https://raw.githubusercontent.com/Dhvanil-CSE/WiDS-2023/main/Week2/Data_Mendeley.csv\")\n",
        "avg = data['Ave']\n",
        "sr = data['StrRate']\n",
        "slr = data['Final Price']"
      ],
      "metadata": {
        "id": "NgyvUuEMAVEr"
      },
      "execution_count": null,
      "outputs": []
    },
    {
      "cell_type": "code",
      "source": [],
      "metadata": {
        "id": "C9C0MZOGzg7g"
      },
      "execution_count": null,
      "outputs": []
    },
    {
      "cell_type": "markdown",
      "source": [
        "Forward pass"
      ],
      "metadata": {
        "id": "LV9ROCrR1hQ5"
      }
    },
    {
      "cell_type": "code",
      "source": [
        "def forward( m1, m2, avg, sr, c):\n",
        "  return m1*avg + m2*sr + c"
      ],
      "metadata": {
        "id": "AgySD6Ac1DCw"
      },
      "execution_count": null,
      "outputs": []
    },
    {
      "cell_type": "markdown",
      "source": [
        "Mean Squared Loss"
      ],
      "metadata": {
        "id": "B3uHaq5x1i7p"
      }
    },
    {
      "cell_type": "code",
      "source": [
        "def loss(slr,slr_pred):\n",
        "  return np.mean((slr - slr_pred) ** 2)"
      ],
      "metadata": {
        "id": "eP2rV0z21IaN"
      },
      "execution_count": null,
      "outputs": []
    },
    {
      "cell_type": "markdown",
      "source": [
        "Implement Linear regression here :)"
      ],
      "metadata": {
        "id": "0JoKzzr_1uvt"
      }
    },
    {
      "cell_type": "code",
      "source": [
        "theta = np.zeros(3)\n",
        "lr = 0.000000001\n",
        "itr = 1000\n",
        "for epoch in range(itr):\n",
        "    slr_pred = forward(theta[0], theta[1], avg, sr, theta[2])\n",
        "    error = slr_pred - slr\n",
        "    grad_m1 = np.dot(avg, error)\n",
        "    grad_m2 = np.dot(sr, error)\n",
        "    grad_bias = np.sum(error)\n",
        "    theta[0] -= lr * grad_m1\n",
        "    theta[1] -= lr * grad_m2\n",
        "    theta[2] -= lr * grad_bias\n",
        "y_pred = forward(theta[0], theta[1], avg, sr, theta[2])\n",
        "l = loss(slr, slr_pred)\n",
        "print(\"Mean Squared Loss:\", l)"
      ],
      "metadata": {
        "id": "k2W3q6eR1d2J",
        "colab": {
          "base_uri": "https://localhost:8080/"
        },
        "outputId": "82330e5d-0519-49b1-a9d6-d542da6bc07d"
      },
      "execution_count": null,
      "outputs": [
        {
          "output_type": "stream",
          "name": "stdout",
          "text": [
            "Mean Squared Loss: 850867365901139.9\n"
          ]
        }
      ]
    },
    {
      "cell_type": "markdown",
      "source": [
        "# Logistic Regression\n",
        "\n",
        "Logistic regression is a process of modeling the probability of a discrete outcome given an input variable. The most common logistic regression models a binary outcome; something that can take two values such as true/false, yes/no, and so on.\n",
        "\n",
        "In this week you will be doing logistic regression on breast cancer dataset using sklearn library. Feel free to create any new functions required."
      ],
      "metadata": {
        "id": "aTAky_OS1w0P"
      }
    },
    {
      "cell_type": "code",
      "source": [
        "#importinf libraries\n",
        "from sklearn.preprocessing import StandardScaler\n",
        "from sklearn.model_selection import train_test_split\n",
        "from sklearn import datasets\n",
        "import pandas as pd\n",
        "import numpy as np\n",
        "import matplotlib.pyplot as plt"
      ],
      "metadata": {
        "id": "E56ck0_P2NR9"
      },
      "execution_count": null,
      "outputs": []
    },
    {
      "cell_type": "code",
      "source": [],
      "metadata": {
        "id": "7wx4RMMGJFNV"
      },
      "execution_count": null,
      "outputs": []
    },
    {
      "cell_type": "markdown",
      "source": [
        "Prepare Data"
      ],
      "metadata": {
        "id": "qojSAol72cmH"
      }
    },
    {
      "cell_type": "code",
      "source": [
        "breast_cancer = datasets.load_breast_cancer()\n",
        "X, y = breast_cancer.data, breast_cancer.target\n",
        "columns = breast_cancer.feature_names\n",
        "can = pd.DataFrame(X, columns=columns)\n",
        "can[\"target\"] = y\n",
        "\n",
        "# Prepare data\n",
        "X = can.iloc[:, :-1].values\n",
        "y = can.iloc[:, -1].values"
      ],
      "metadata": {
        "id": "_uUSV8Xk2ePh"
      },
      "execution_count": null,
      "outputs": []
    },
    {
      "cell_type": "code",
      "source": [
        "#spliting data for training and testing\n",
        "X_train, X_test, y_train, y_test = train_test_split(X, y, test_size=0.2, random_state=1234)\n",
        "sc = StandardScaler()\n",
        "X_train = sc.fit_transform(X_train)\n",
        "X_test = sc.transform(X_test)"
      ],
      "metadata": {
        "id": "N6jcbk5g29XW"
      },
      "execution_count": null,
      "outputs": []
    },
    {
      "cell_type": "markdown",
      "source": [
        "Forward pass"
      ],
      "metadata": {
        "id": "ofghhz-63Ru5"
      }
    },
    {
      "cell_type": "code",
      "source": [
        "from scipy.special import expit\n",
        "def forward(x):\n",
        "    return expit(x)"
      ],
      "metadata": {
        "id": "K1JzUVko3Zob"
      },
      "execution_count": null,
      "outputs": []
    },
    {
      "cell_type": "markdown",
      "source": [
        "Binary cross entropy loss"
      ],
      "metadata": {
        "id": "R4ldHUJs3d2V"
      }
    },
    {
      "cell_type": "code",
      "source": [
        "def BCELoss(y,y_pred):\n",
        "  eps = 1e-1\n",
        "  loss = - (y * np.log(np.expand_dims(y_pred, 1) + eps) + (1 - y) * np.log(np.expand_dims(1 - y_pred, 1) + eps))\n",
        "  return np.mean(loss)"
      ],
      "metadata": {
        "id": "QkXgo04D3dGW"
      },
      "execution_count": null,
      "outputs": []
    },
    {
      "cell_type": "markdown",
      "source": [
        "Implement Logistic Regression here :)"
      ],
      "metadata": {
        "id": "OIuuOJcJ3sti"
      }
    },
    {
      "cell_type": "code",
      "source": [
        "fea = X_train.shape[1]\n",
        "theta = np.zeros(fea)\n",
        "lr = 0.001\n",
        "itr = 1000\n",
        "for epoch in range(itr):\n",
        "    logits = np.dot(X_train, theta)\n",
        "    prob = forward(logits)\n",
        "    err = prob - y_train\n",
        "    grad = np.dot(X_train.T, err) + 0.01 * theta\n",
        "    theta -= lr * grad\n",
        "logits_test = np.dot(X_test, theta)\n",
        "prob_test = forward(logits_test)\n",
        "y_pred_test = (prob_test >= 0.5).astype(int)\n",
        "acc_test = np.mean(y_pred_test == y_test)\n",
        "loss_test = BCELoss(y_test, prob_test)\n",
        "print(\"accuracy: \" , acc_test)\n",
        "print(\"BCEL:\" , loss_test)"
      ],
      "metadata": {
        "id": "gBJ6H_ss3yUr",
        "colab": {
          "base_uri": "https://localhost:8080/"
        },
        "outputId": "685a2e12-45e4-4d76-def1-d202cd55911c"
      },
      "execution_count": null,
      "outputs": [
        {
          "output_type": "stream",
          "name": "stdout",
          "text": [
            "accuracy:  0.9649122807017544\n",
            "BCEL: 0.9989898844506312\n"
          ]
        }
      ]
    }
  ]
}