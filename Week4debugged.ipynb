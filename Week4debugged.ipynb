{
  "nbformat": 4,
  "nbformat_minor": 0,
  "metadata": {
    "colab": {
      "provenance": [],
      "authorship_tag": "ABX9TyPJepU5eXTNW+ZATz3fchtf",
      "include_colab_link": true
    },
    "kernelspec": {
      "name": "python3",
      "display_name": "Python 3"
    },
    "language_info": {
      "name": "python"
    }
  },
  "cells": [
    {
      "cell_type": "markdown",
      "metadata": {
        "id": "view-in-github",
        "colab_type": "text"
      },
      "source": [
        "<a href=\"https://colab.research.google.com/github/memelordmaddy/WiDS-2023/blob/main/Week4debugged.ipynb\" target=\"_parent\"><img src=\"https://colab.research.google.com/assets/colab-badge.svg\" alt=\"Open In Colab\"/></a>"
      ]
    },
    {
      "cell_type": "code",
      "execution_count": 1,
      "metadata": {
        "id": "WBRgVyQVd_oX"
      },
      "outputs": [],
      "source": [
        "import torch\n",
        "import torch.nn as nn\n",
        "import torch.optim as optim\n",
        "from torch.utils.data import DataLoader\n",
        "from torchvision import transforms, datasets\n",
        "import numpy as np\n",
        "import pandas as pd\n",
        "import matplotlib.pyplot as plt\n",
        "import os\n",
        "from torchvision.datasets import ImageFolder\n",
        "from torchvision.transforms import ToTensor, Resize\n",
        "from torch.utils.data import DataLoader"
      ]
    },
    {
      "cell_type": "code",
      "source": [
        "from google.colab import drive\n",
        "from torchvision.transforms import Resize, ToTensor, Normalize, RandomHorizontalFlip, RandomVerticalFlip, RandomRotation, ColorJitter\n",
        "from torch.utils.data import random_split, Dataset\n",
        "\n",
        "drive.mount('/content/gdrive')\n",
        "yespath = '/content/gdrive/My Drive/yes'\n",
        "nopath = '/content/gdrive/My Drive/no'\n",
        "\n",
        "transform = transforms.Compose([\n",
        "    Resize((240, 240)),\n",
        "    transforms.RandomHorizontalFlip(),\n",
        "    transforms.RandomVerticalFlip(),\n",
        "    transforms.RandomRotation(20),\n",
        "    transforms.ColorJitter(brightness=0.2, contrast=0.2, saturation=0.2, hue=0.2),\n",
        "    transforms.ToTensor(),\n",
        "    transforms.Normalize(mean=[0.5], std=[0.5])\n",
        "])\n",
        "\n",
        "class CustomDataset(Dataset):\n",
        "    def __init__(self, root, transform=None, label=0):\n",
        "        self.root = root\n",
        "        self.transform = transform\n",
        "        self.label = label\n",
        "        self.file_list = os.listdir(root)\n",
        "\n",
        "    def __len__(self):\n",
        "        return len(self.file_list)\n",
        "\n",
        "    def __getitem__(self, idx):\n",
        "        img_name = os.path.join(self.root, self.file_list[idx])\n",
        "        image = Image.open(img_name).convert('RGB')\n",
        "        label = torch.tensor(self.label, dtype=torch.float32)\n",
        "\n",
        "        if self.transform:\n",
        "            image = self.transform(image)\n",
        "\n",
        "        return image, label\n",
        "\n",
        "positive_dataset = CustomDataset(root=yespath, transform=transform, label=1)\n",
        "negative_dataset = CustomDataset(root=nopath, transform=transform, label=0)\n",
        "\n",
        "train_size_positive = int(0.8 * len(positive_dataset))\n",
        "test_size_positive = len(positive_dataset) - train_size_positive\n",
        "\n",
        "train_size_negative = int(0.8 * len(negative_dataset))\n",
        "test_size_negative = len(negative_dataset) - train_size_negative\n",
        "\n",
        "train_dataset = torch.utils.data.ConcatDataset([\n",
        "    torch.utils.data.Subset(positive_dataset, range(train_size_positive)),\n",
        "    torch.utils.data.Subset(negative_dataset, range(train_size_negative))\n",
        "])\n",
        "\n",
        "test_dataset = torch.utils.data.ConcatDataset([\n",
        "    torch.utils.data.Subset(positive_dataset, range(train_size_positive, len(positive_dataset))),\n",
        "    torch.utils.data.Subset(negative_dataset, range(train_size_negative, len(negative_dataset)))\n",
        "])\n",
        "\n",
        "batch_size = 32\n",
        "train_loader = DataLoader(train_dataset, batch_size=batch_size, shuffle=True)\n",
        "\n",
        "test_loader = DataLoader(test_dataset, batch_size=batch_size, shuffle=False)"
      ],
      "metadata": {
        "colab": {
          "base_uri": "https://localhost:8080/"
        },
        "id": "lN52pO7GjfgI",
        "outputId": "d061c601-d61b-4a85-a1ab-44cae5dbd937"
      },
      "execution_count": 7,
      "outputs": [
        {
          "output_type": "stream",
          "name": "stdout",
          "text": [
            "Drive already mounted at /content/gdrive; to attempt to forcibly remount, call drive.mount(\"/content/gdrive\", force_remount=True).\n"
          ]
        }
      ]
    },
    {
      "cell_type": "code",
      "source": [
        "class BrainTumorCNN(nn.Module):\n",
        "    def __init__(self):\n",
        "        super(BrainTumorCNN, self).__init__()\n",
        "        self.conv1 = nn.Conv2d(3, 32, kernel_size=3, stride=1, padding=1)\n",
        "        self.maxpool1 = nn.MaxPool2d(kernel_size=2, stride=2)\n",
        "        self.conv2 = nn.Conv2d(32, 64, kernel_size=3, stride=1, padding=1)\n",
        "        self.maxpool2 = nn.MaxPool2d(kernel_size=2, stride=2)\n",
        "        self.conv3 = nn.Conv2d(64, 128, kernel_size=3, stride=1, padding=1)\n",
        "        self.maxpool3 = nn.MaxPool2d(kernel_size=2, stride=2)\n",
        "        self.flatten = nn.Flatten()\n",
        "        self.fc1 = nn.Linear(115200, 256)\n",
        "        self.fc2 = nn.Linear(256, 1)\n",
        "        self.relu = nn.ReLU()\n",
        "    def forward(self, x):\n",
        "        x = self.conv1(x)\n",
        "        x = self.relu(x)\n",
        "        x = self.maxpool1(x)\n",
        "        x = self.conv2(x)\n",
        "        x = self.relu(x)\n",
        "        x = self.maxpool2(x)\n",
        "        x = self.conv3(x)\n",
        "        x = self.relu(x)\n",
        "        x = self.maxpool3(x)\n",
        "        x = self.flatten(x)\n",
        "        x = self.fc1(x)\n",
        "        x = self.relu(x)\n",
        "        logits = self.fc2(x)\n",
        "        return logits\n",
        "\n",
        "model = BrainTumorCNN()\n",
        "device = torch.device(\"cuda\" if torch.cuda.is_available() else \"cpu\")\n",
        "model.to(device)\n",
        "\n",
        "criterion = nn.BCEWithLogitsLoss()\n",
        "optimizer = optim.Adam(model.parameters(), lr=0.001)\n",
        "\n"
      ],
      "metadata": {
        "id": "HznH9SbGlgli"
      },
      "execution_count": 28,
      "outputs": []
    },
    {
      "cell_type": "code",
      "source": [
        "class EarlyStopping:\n",
        "    def __init__(self, patience=5, delta=0, checkpoint_path='checkpoint.pt'):\n",
        "        self.patience = patience\n",
        "        self.delta = delta\n",
        "        self.counter = 0\n",
        "        self.best_score = None\n",
        "        self.early_stop = False\n",
        "        self.checkpoint_path = checkpoint_path\n",
        "\n",
        "    def __call__(self, val_loss, model):\n",
        "        if self.best_score is None:\n",
        "            self.best_score = val_loss\n",
        "            self.save_checkpoint(val_loss, model)\n",
        "        elif val_loss > self.best_score + self.delta:\n",
        "            self.counter += 1\n",
        "            if self.counter >= self.patience:\n",
        "                self.early_stop = True\n",
        "        else:\n",
        "            self.best_score = val_loss\n",
        "            self.save_checkpoint(val_loss, model)\n",
        "            self.counter = 0\n",
        "\n",
        "    def save_checkpoint(self, val_loss, model):\n",
        "        torch.save(model.state_dict(), self.checkpoint_path)\n",
        "\n",
        "early_stopping = EarlyStopping(patience=5, delta=0.0025)"
      ],
      "metadata": {
        "id": "l9j89Z-VlkIS"
      },
      "execution_count": 34,
      "outputs": []
    },
    {
      "cell_type": "code",
      "source": [
        "from PIL import Image\n",
        "\n",
        "epochs = 20\n",
        "\n",
        "for epoch in range(epochs):\n",
        "    model.train()\n",
        "    for inputs, labels in train_loader:\n",
        "        inputs, labels = inputs.to(device), labels.to(device)\n",
        "\n",
        "        optimizer.zero_grad()\n",
        "        outputs = model(inputs)\n",
        "        loss = criterion(outputs, labels.float().view(-1, 1))\n",
        "        loss.backward()\n",
        "        optimizer.step()\n",
        "    model.eval()\n",
        "    val_loss = 0.0\n",
        "    correct = 0\n",
        "    total = 0\n",
        "    with torch.no_grad():\n",
        "        for inputs, labels in test_loader:\n",
        "            inputs, labels = inputs.to(device), labels.to(device)\n",
        "            outputs = model(inputs)\n",
        "            val_loss += criterion(outputs, labels.float().view(-1, 1)).item()\n",
        "\n",
        "            predicted = torch.round(torch.sigmoid(outputs))\n",
        "            total += labels.size(0)\n",
        "            correct += (predicted == labels.view(-1, 1)).sum().item()\n",
        "\n",
        "    val_loss /= len(test_loader)\n",
        "    accuracy = correct / total * 100\n",
        "    print(f'Epoch [{epoch + 1}/{epochs}], Loss: {loss.item():.4f}, Val Loss: {val_loss:.4f}, Accuracy: {accuracy:.2f}%')\n",
        "\n",
        "    early_stopping(val_loss, model)\n",
        "\n",
        "    if early_stopping.early_stop:\n",
        "        print(\"Early stopping\")\n",
        "        break\n",
        "\n",
        "model.load_state_dict(torch.load(early_stopping.checkpoint_path))\n",
        "\n",
        "model.eval()\n",
        "test_correct = 0\n",
        "test_total = 0\n",
        "with torch.no_grad():\n",
        "    for inputs, labels in test_loader:\n",
        "        inputs, labels = inputs.to(device), labels.to(device)\n",
        "        outputs = model(inputs)\n",
        "        predicted = torch.round(torch.sigmoid(outputs))\n",
        "        test_total += labels.size(0)\n",
        "        test_correct += (predicted == labels.view(-1, 1)).sum().item()\n",
        "\n",
        "test_accuracy = test_correct / test_total * 100\n",
        "print(f'Test Accuracy: {test_accuracy:.2f}%')"
      ],
      "metadata": {
        "colab": {
          "base_uri": "https://localhost:8080/"
        },
        "id": "Ur3i99IolrK3",
        "outputId": "09869005-5158-4bc9-8fde-0c18979b427b"
      },
      "execution_count": 35,
      "outputs": [
        {
          "output_type": "stream",
          "name": "stdout",
          "text": [
            "Epoch [1/20], Loss: 0.1647, Val Loss: 1.0187, Accuracy: 80.39%\n",
            "Epoch [2/20], Loss: 0.1191, Val Loss: 1.1947, Accuracy: 82.35%\n",
            "Epoch [3/20], Loss: 0.3617, Val Loss: 1.1749, Accuracy: 66.67%\n",
            "Epoch [4/20], Loss: 0.2493, Val Loss: 1.2073, Accuracy: 68.63%\n",
            "Epoch [5/20], Loss: 0.1366, Val Loss: 0.6262, Accuracy: 76.47%\n",
            "Epoch [6/20], Loss: 0.1112, Val Loss: 0.9620, Accuracy: 74.51%\n",
            "Epoch [7/20], Loss: 0.5644, Val Loss: 0.9163, Accuracy: 80.39%\n",
            "Epoch [8/20], Loss: 0.1148, Val Loss: 1.3607, Accuracy: 74.51%\n",
            "Epoch [9/20], Loss: 0.3748, Val Loss: 0.8047, Accuracy: 80.39%\n",
            "Epoch [10/20], Loss: 0.0687, Val Loss: 0.9597, Accuracy: 72.55%\n",
            "Early stopping\n",
            "Test Accuracy: 70.59%\n"
          ]
        }
      ]
    },
    {
      "cell_type": "code",
      "source": [],
      "metadata": {
        "id": "HJZ85f2c5t7K"
      },
      "execution_count": null,
      "outputs": []
    }
  ]
}