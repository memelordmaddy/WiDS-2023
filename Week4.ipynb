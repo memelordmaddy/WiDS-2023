{
  "cells": [
    {
      "cell_type": "markdown",
      "metadata": {
        "id": "view-in-github",
        "colab_type": "text"
      },
      "source": [
        "<a href=\"https://colab.research.google.com/github/memelordmaddy/WiDS-2023/blob/main/Week4.ipynb\" target=\"_parent\"><img src=\"https://colab.research.google.com/assets/colab-badge.svg\" alt=\"Open In Colab\"/></a>"
      ]
    },
    {
      "cell_type": "markdown",
      "metadata": {
        "id": "doyJywopNptX"
      },
      "source": [
        "importing necessary libraries"
      ]
    },
    {
      "cell_type": "code",
      "execution_count": null,
      "metadata": {
        "id": "lirRJy_pKze_"
      },
      "outputs": [],
      "source": [
        "import torch\n",
        "import torch.nn as nn\n",
        "import torch.optim as optim\n",
        "from torch.utils.data import DataLoader\n",
        "from torchvision import transforms, datasets\n",
        "import numpy as np\n",
        "import pandas as pd\n",
        "import matplotlib.pyplot as plt\n",
        "import os\n",
        "from torchvision.datasets import ImageFolder\n",
        "from torchvision.transforms import ToTensor, Resize\n",
        "from torch.utils.data import DataLoader"
      ]
    },
    {
      "cell_type": "code",
      "execution_count": null,
      "metadata": {
        "id": "Y38doxVeXdbt"
      },
      "outputs": [],
      "source": [
        "from google.colab import drive\n",
        "\n",
        "# Mount Google Drive\n",
        "drive.mount('/content/gdrive')\n",
        "\n",
        "# Replace the following path with the path to your zipped file on Google Drive\n",
        "zip_path = '/content/gdrive/My Drive/brain_images_dataset.zip'\n",
        "\n",
        "# Define the extraction path\n",
        "extracted_path = '/content/dataset'\n",
        "\n",
        "# Unzip the file\n",
        "!unzip \"$zip_path\" -d \"$extracted_path\"\n"
      ]
    },
    {
      "cell_type": "code",
      "execution_count": null,
      "metadata": {
        "id": "4h2S3jFOXZnh"
      },
      "outputs": [],
      "source": [
        "from torchvision.transforms import Resize, ToTensor, Normalize, RandomHorizontalFlip, RandomVerticalFlip, RandomRotation, ColorJitter\n",
        "# Define the transformation to apply to the images\n",
        "transform = transforms.Compose([\n",
        "    Resize((240, 240)),  # Resize the image to 240x240 pixels\n",
        "    transforms.RandomHorizontalFlip(),  # Random horizontal flip for data augmentation\n",
        "    transforms.RandomVerticalFlip(),    # Random vertical flip for data augmentation\n",
        "    transforms.RandomRotation(20),      # Random rotation for data augmentation\n",
        "    transforms.ColorJitter(brightness=0.2, contrast=0.2, saturation=0.2, hue=0.2),  # Color jitter\n",
        "    transforms.ToTensor(),              # Convert the image to a PyTorch tensor\n",
        "    transforms.Normalize(mean=[0.5], std=[0.5])  # Normalize to mean=0.5 and std=0.5\n",
        "])\n",
        "\n",
        "# Load the dataset using ImageFolder\n",
        "dataset = ImageFolder(root=extracted_path, transform=transform)\n",
        "\n",
        "# Define the DataLoader to handle batching and shuffling\n",
        "batch_size = 32\n",
        "data_loader = DataLoader(dataset, batch_size=batch_size, shuffle=True)\n"
      ]
    },
    {
      "cell_type": "code",
      "execution_count": null,
      "metadata": {
        "id": "WVcuzBdiO00M"
      },
      "outputs": [],
      "source": [
        "from torch.utils.data import random_split\n",
        "\n",
        "# Define the size of the training and testing sets\n",
        "train_size = int(0.8 * len(dataset))  # 80% for training\n",
        "test_size = len(dataset) - train_size   # 20% for testing\n",
        "\n",
        "# Use random_split to create the training and testing datasets\n",
        "train_dataset, test_dataset = random_split(dataset, [train_size, test_size])\n",
        "\n",
        "# Define the DataLoader for training set\n",
        "train_loader = DataLoader(train_dataset, batch_size=batch_size, shuffle=True)\n",
        "\n",
        "# Define the DataLoader for testing set\n",
        "test_loader = DataLoader(test_dataset, batch_size=batch_size, shuffle=False)"
      ]
    },
    {
      "cell_type": "code",
      "execution_count": null,
      "metadata": {
        "id": "H70-9vfjOjlu"
      },
      "outputs": [],
      "source": [
        "# Define the CNN model\n",
        "class BrainTumorCNN(nn.Module):\n",
        "    def __init__(self):\n",
        "        super(BrainTumorCNN, self).__init__()\n",
        "        self.conv1 = nn.Conv2d(3, 32, kernel_size=3, stride=1, padding=1)\n",
        "        self.maxpool1 = nn.MaxPool2d(kernel_size=2, stride=2)\n",
        "        self.conv2 = nn.Conv2d(32, 64, kernel_size=3, stride=1, padding=1)\n",
        "        self.maxpool2 = nn.MaxPool2d(kernel_size=2, stride=2)\n",
        "        self.conv3 = nn.Conv2d(64, 128, kernel_size=3, stride=1, padding=1)\n",
        "        self.maxpool3 = nn.MaxPool2d(kernel_size=2, stride=2)\n",
        "        self.flatten = nn.Flatten()\n",
        "        self.fc1 = nn.Linear(115200, 256)  # Adjusted the input size based on the output of conv3\n",
        "        self.fc2 = nn.Linear(256, 1)\n",
        "        self.relu = nn.ReLU()  # Added ReLU activation module\n",
        "    def forward(self, x):\n",
        "        x = self.conv1(x)\n",
        "        x = self.relu(x)\n",
        "        x = self.maxpool1(x)\n",
        "        x = self.conv2(x)\n",
        "        x = self.relu(x)\n",
        "        x = self.maxpool2(x)\n",
        "        x = self.conv3(x)\n",
        "        x = self.relu(x)\n",
        "        x = self.maxpool3(x)\n",
        "        x = self.flatten(x)\n",
        "        x = self.fc1(x)\n",
        "        x = self.relu(x)\n",
        "        logits = self.fc2(x)  # logits for BCEWithLogitsLoss\n",
        "        return logits\n",
        "\n",
        "# Instantiate the model and move it to the GPU if available\n",
        "model = BrainTumorCNN()\n",
        "device = torch.device(\"cuda\" if torch.cuda.is_available() else \"cpu\")\n",
        "model.to(device)\n",
        "\n",
        "# Define the loss function and optimizer\n",
        "criterion = nn.BCEWithLogitsLoss()  # Binary Cross Entropy with Logits Loss\n",
        "optimizer = optim.Adam(model.parameters(), lr=0.0005)"
      ]
    },
    {
      "cell_type": "code",
      "execution_count": null,
      "metadata": {
        "id": "NY5jURDYicvy"
      },
      "outputs": [],
      "source": [
        "optimizer = optim.Adam(model.parameters(), lr=0.0005)"
      ]
    },
    {
      "cell_type": "code",
      "execution_count": null,
      "metadata": {
        "id": "17rWFpoCQfAL"
      },
      "outputs": [],
      "source": [
        "# Define early stopping and model checkpointing\n",
        "class EarlyStopping:\n",
        "    def __init__(self, patience=5, delta=0, checkpoint_path='checkpoint.pt'):\n",
        "        self.patience = patience\n",
        "        self.delta = delta\n",
        "        self.counter = 0\n",
        "        self.best_score = None\n",
        "        self.early_stop = False\n",
        "        self.checkpoint_path = checkpoint_path\n",
        "\n",
        "    def __call__(self, val_loss, model):\n",
        "        if self.best_score is None:\n",
        "            self.best_score = val_loss\n",
        "            self.save_checkpoint(val_loss, model)\n",
        "        elif val_loss > self.best_score + self.delta:\n",
        "            self.counter += 1\n",
        "            if self.counter >= self.patience:\n",
        "                self.early_stop = True\n",
        "        else:\n",
        "            self.best_score = val_loss\n",
        "            self.save_checkpoint(val_loss, model)\n",
        "            self.counter = 0\n",
        "\n",
        "    def save_checkpoint(self, val_loss, model):\n",
        "        torch.save(model.state_dict(), self.checkpoint_path)\n",
        "\n",
        "# Instantiate EarlyStopping class\n",
        "early_stopping = EarlyStopping(patience=5, delta=0.001)"
      ]
    },
    {
      "cell_type": "code",
      "execution_count": null,
      "metadata": {
        "colab": {
          "base_uri": "https://localhost:8080/"
        },
        "id": "YVPGpMkhU9ec",
        "outputId": "de35e2bb-572e-4a8f-abaf-d6930d540391"
      },
      "outputs": [
        {
          "output_type": "stream",
          "name": "stdout",
          "text": [
            "Epoch [1/20], Loss: 0.9126, Val Loss: 0.5674, Accuracy: 18.63%\n",
            "Epoch [2/20], Loss: 0.1875, Val Loss: 0.7531, Accuracy: 18.63%\n",
            "Epoch [3/20], Loss: -0.5454, Val Loss: 0.8684, Accuracy: 19.61%\n",
            "Epoch [4/20], Loss: 0.2457, Val Loss: 1.4205, Accuracy: 17.65%\n",
            "Epoch [5/20], Loss: -0.2894, Val Loss: 0.9258, Accuracy: 18.63%\n",
            "Epoch [6/20], Loss: 0.0404, Val Loss: 1.4251, Accuracy: 17.65%\n",
            "Early stopping\n",
            "Test Accuracy: 18.63%\n"
          ]
        }
      ],
      "source": [
        "# Training loop with early stopping and model checkpointing\n",
        "num_epochs = 20\n",
        "\n",
        "for epoch in range(num_epochs):\n",
        "    model.train()\n",
        "    for inputs, labels in train_loader:\n",
        "        inputs, labels = inputs.to(device), labels.to(device)\n",
        "\n",
        "        optimizer.zero_grad()\n",
        "        outputs = model(inputs)\n",
        "        loss = criterion(outputs, labels.float().view(-1, 1))\n",
        "        loss.backward()\n",
        "        optimizer.step()\n",
        "\n",
        "    model.eval()\n",
        "    val_loss = 0.0\n",
        "    correct = 0\n",
        "    total = 0\n",
        "    with torch.no_grad():\n",
        "        for inputs, labels in test_loader:\n",
        "            inputs, labels = inputs.to(device), labels.to(device)\n",
        "            outputs = model(inputs)\n",
        "            val_loss += criterion(outputs, labels.float().view(-1, 1)).item()\n",
        "\n",
        "            predicted = torch.round(torch.sigmoid(outputs))\n",
        "            total += labels.size(0)\n",
        "            correct += (predicted == labels.view(-1, 1)).sum().item()\n",
        "\n",
        "    val_loss /= len(test_loader)\n",
        "    accuracy = correct / total * 100\n",
        "    print(f'Epoch [{epoch + 1}/{num_epochs}], Loss: {loss.item():.4f}, Val Loss: {val_loss:.4f}, Accuracy: {accuracy:.2f}%')\n",
        "\n",
        "    # Check early stopping criteria\n",
        "    early_stopping(val_loss, model)\n",
        "\n",
        "    if early_stopping.early_stop:\n",
        "        print(\"Early stopping\")\n",
        "        break\n",
        "\n",
        "# Load the best model weights\n",
        "model.load_state_dict(torch.load(early_stopping.checkpoint_path))\n",
        "\n",
        "# Testing the model\n",
        "model.eval()\n",
        "test_correct = 0\n",
        "test_total = 0\n",
        "with torch.no_grad():\n",
        "    for inputs, labels in test_loader:\n",
        "        inputs, labels = inputs.to(device), labels.to(device)\n",
        "        outputs = model(inputs)\n",
        "        predicted = torch.round(torch.sigmoid(outputs))\n",
        "        test_total += labels.size(0)\n",
        "        test_correct += (predicted == labels.view(-1, 1)).sum().item()\n",
        "\n",
        "test_accuracy = test_correct / test_total * 100\n",
        "print(f'Test Accuracy: {test_accuracy:.2f}%')"
      ]
    },
    {
      "cell_type": "code",
      "execution_count": null,
      "metadata": {
        "colab": {
          "base_uri": "https://localhost:8080/",
          "height": 391
        },
        "id": "6ygD9KBLbGep",
        "outputId": "6b9d9b7f-39e3-46f9-c3f1-489ddb87d17a"
      },
      "outputs": [
        {
          "ename": "IndexError",
          "evalue": "index 69 is out of bounds for dimension 0 with size 6",
          "output_type": "error",
          "traceback": [
            "\u001b[0;31m---------------------------------------------------------------------------\u001b[0m",
            "\u001b[0;31mIndexError\u001b[0m                                Traceback (most recent call last)",
            "\u001b[0;32m<ipython-input-26-1b7ec998ff4e>\u001b[0m in \u001b[0;36m<cell line: 33>\u001b[0;34m()\u001b[0m\n\u001b[1;32m     36\u001b[0m     \u001b[0mlabel\u001b[0m \u001b[0;34m=\u001b[0m \u001b[0mlabels\u001b[0m\u001b[0;34m[\u001b[0m\u001b[0msample_index\u001b[0m\u001b[0;34m]\u001b[0m\u001b[0;34m\u001b[0m\u001b[0;34m\u001b[0m\u001b[0m\n\u001b[1;32m     37\u001b[0m \u001b[0;34m\u001b[0m\u001b[0m\n\u001b[0;32m---> 38\u001b[0;31m     \u001b[0mimage\u001b[0m \u001b[0;34m=\u001b[0m \u001b[0mtransforms\u001b[0m\u001b[0;34m.\u001b[0m\u001b[0mToPILImage\u001b[0m\u001b[0;34m(\u001b[0m\u001b[0;34m)\u001b[0m\u001b[0;34m(\u001b[0m\u001b[0minputs\u001b[0m\u001b[0;34m[\u001b[0m\u001b[0msample_index\u001b[0m\u001b[0;34m]\u001b[0m\u001b[0;34m.\u001b[0m\u001b[0mcpu\u001b[0m\u001b[0;34m(\u001b[0m\u001b[0;34m)\u001b[0m\u001b[0;34m)\u001b[0m\u001b[0;34m\u001b[0m\u001b[0;34m\u001b[0m\u001b[0m\n\u001b[0m\u001b[1;32m     39\u001b[0m     \u001b[0maxes\u001b[0m\u001b[0;34m[\u001b[0m\u001b[0mi\u001b[0m\u001b[0;34m]\u001b[0m\u001b[0;34m.\u001b[0m\u001b[0mimshow\u001b[0m\u001b[0;34m(\u001b[0m\u001b[0mimage\u001b[0m\u001b[0;34m)\u001b[0m\u001b[0;34m\u001b[0m\u001b[0;34m\u001b[0m\u001b[0m\n\u001b[1;32m     40\u001b[0m     \u001b[0maxes\u001b[0m\u001b[0;34m[\u001b[0m\u001b[0mi\u001b[0m\u001b[0;34m]\u001b[0m\u001b[0;34m.\u001b[0m\u001b[0mset_title\u001b[0m\u001b[0;34m(\u001b[0m\u001b[0;34mf'Predicted: {prediction}, Actual: {label}'\u001b[0m\u001b[0;34m)\u001b[0m\u001b[0;34m\u001b[0m\u001b[0;34m\u001b[0m\u001b[0m\n",
            "\u001b[0;31mIndexError\u001b[0m: index 69 is out of bounds for dimension 0 with size 6"
          ]
        },
        {
          "data": {
            "image/png": "[encoded data removed]",
            "text/plain": [
              "<Figure size 1500x300 with 5 Axes>"
            ]
          },
          "metadata": {},
          "output_type": "display_data"
        }
      ],
      "source": [
        "from torchvision import transforms\n",
        "\n",
        "# Assuming 'test_loader' is your DataLoader for the test set\n",
        "# and 'model' is your trained model\n",
        "\n",
        "# Set the model to evaluation mode\n",
        "model.eval()\n",
        "\n",
        "# Iterate through the test set and make predictions\n",
        "predictions = []\n",
        "labels = []\n",
        "\n",
        "with torch.no_grad():\n",
        "    for inputs, true_labels in test_loader:\n",
        "        inputs = inputs.to(device)\n",
        "        true_labels = true_labels.to(device)\n",
        "\n",
        "        # Forward pass\n",
        "        outputs = model(inputs)\n",
        "        predicted_labels = sigmoid(outputs) > 0.5\n",
        "\n",
        "        predictions.extend(predicted_labels.cpu().numpy())\n",
        "        labels.extend(true_labels.cpu().numpy())\n",
        "\n",
        "# Convert predictions and labels to numpy arrays\n",
        "predictions = np.array(predictions)\n",
        "labels = np.array(labels)\n",
        "\n",
        "# Visualize some results\n",
        "num_samples = min(5, len(predictions), len(test_loader.dataset))  # Ensure not to exceed the number of available samples\n",
        "fig, axes = plt.subplots(1, num_samples, figsize=(15, 3))\n",
        "\n",
        "for i in range(num_samples):\n",
        "    sample_index = np.random.randint(len(predictions))\n",
        "    prediction = predictions[sample_index]\n",
        "    label = labels[sample_index]\n",
        "\n",
        "    image = transforms.ToPILImage()(inputs[sample_index].cpu())\n",
        "    axes[i].imshow(image)\n",
        "    axes[i].set_title(f'Predicted: {prediction}, Actual: {label}')\n",
        "    axes[i].axis('off')\n",
        "\n",
        "plt.show()"
      ]
    }
  ],
  "metadata": {
    "colab": {
      "provenance": [],
      "authorship_tag": "ABX9TyO3GvIxLo/ZfswO0RSrO8cm",
      "include_colab_link": true
    },
    "kernelspec": {
      "display_name": "Python 3",
      "name": "python3"
    },
    "language_info": {
      "name": "python"
    }
  },
  "nbformat": 4,
  "nbformat_minor": 0
}